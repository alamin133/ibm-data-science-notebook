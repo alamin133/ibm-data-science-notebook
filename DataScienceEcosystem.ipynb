{
 "cells": [
  {
   "cell_type": "markdown",
   "id": "2ed34db8-d6c3-4fe0-ba3b-1410c4de7ba1",
   "metadata": {},
   "source": [
    "# Data Science Tools And Ecosystem"
   ]
  },
  {
   "attachments": {},
   "cell_type": "markdown",
   "id": "f0928f83-7de7-4db8-90e3-1a825bbe1800",
   "metadata": {},
   "source": [
    "In this notebook, Data Science Tools and Ecosystem are summarized.\n",
    "\n",
    "**Objectives:**\n",
    "\n",
    "- List popular languages for Data Science  \n",
    "- Identify commonly used libraries in Data Science  \n",
    "- Understand how to evaluate arithmetic expressions in Python  \n",
    "- Create simple tables using Markdown  \n",
    "- Use Markdown to format headings and comments\n",
    "\n"
   ]
  },
  {
   "cell_type": "markdown",
   "id": "e9381775-8fe0-4ca6-8b33-c31386f6fb2c",
   "metadata": {},
   "source": [
    " Some of the popular languages that Data Scientists use are:\n",
    "\n",
    "1. Python\n",
    "2. R\n",
    "3. Sql"
   ]
  },
  {
   "cell_type": "markdown",
   "id": "ac0aad81-fc7a-47c2-8799-3861bdb520e0",
   "metadata": {},
   "source": [
    "Some of the commonly used libraries used by Data Scientists include:\n",
    "\n",
    "1. Pandas\n",
    "2. Numpy\n",
    "3. Matplotlib/Seaborn\n"
   ]
  },
  {
   "cell_type": "markdown",
   "id": "d03d6a44-e920-4a6b-a9d0-ce36a1c1b307",
   "metadata": {},
   "source": [
    "| Data Science Tools       |\n",
    "|-------------------------|\n",
    "| Jupyter Notebook        |\n",
    "| RStudio                 |\n",
    "| Apache Zeppelin         |"
   ]
  },
  {
   "cell_type": "markdown",
   "id": "dfe2bee9-5fca-4455-8a9d-7bb7d40e7e90",
   "metadata": {},
   "source": [
    "### Below are a few examples of evaluating arithmetic expressions in Python.\n",
    "\n",
    "print(2 + 3)       # Output: 5\n",
    "\n",
    "print(7 - 4)       # Output: 3\n",
    "\n",
    "print(5 * 6)       # Output: 30\n",
    "\n",
    "print(8 / 2)       # Output: 4.0\n",
    "\n",
    "print(9 // 2)      # Output: 4\n",
    "\n",
    "print(9 % 2)       # Output: 1\n",
    "\n"
   ]
  },
  {
   "cell_type": "code",
   "execution_count": 11,
   "id": "a06d959d-0ca2-4134-81c4-57a08dc5a989",
   "metadata": {},
   "outputs": [
    {
     "data": {
      "text/plain": [
       "17"
      ]
     },
     "execution_count": 11,
     "metadata": {},
     "output_type": "execute_result"
    }
   ],
   "source": [
    "(3*4)+5\n",
    "\n",
    "#  This a simple arithmetic expression to mutiply then add integers"
   ]
  },
  {
   "cell_type": "code",
   "execution_count": 12,
   "id": "3af8f9ea-3e86-473f-85b5-0a287a241ca0",
   "metadata": {},
   "outputs": [
    {
     "data": {
      "text/plain": [
       "3.3333333333333335"
      ]
     },
     "execution_count": 12,
     "metadata": {},
     "output_type": "execute_result"
    }
   ],
   "source": [
    "# This will convert 200 minutes to hours by diving by 60\n",
    "200/60"
   ]
  },
  {
   "cell_type": "markdown",
   "id": "0bb3ab4a-9666-4656-b447-bf9d2bcb25a3",
   "metadata": {},
   "source": [
    "## Author\n",
    "Md Al Amin"
   ]
  }
 ],
 "metadata": {
  "kernelspec": {
   "display_name": "Python 3 (ipykernel)",
   "language": "python",
   "name": "python3"
  },
  "language_info": {
   "codemirror_mode": {
    "name": "ipython",
    "version": 3
   },
   "file_extension": ".py",
   "mimetype": "text/x-python",
   "name": "python",
   "nbconvert_exporter": "python",
   "pygments_lexer": "ipython3",
   "version": "3.12.8"
  }
 },
 "nbformat": 4,
 "nbformat_minor": 5
}
